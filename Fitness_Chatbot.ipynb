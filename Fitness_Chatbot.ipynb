{
  "nbformat": 4,
  "nbformat_minor": 0,
  "metadata": {
    "colab": {
      "provenance": [],
      "authorship_tag": "ABX9TyMbo21iGkXlxER8iimx3e4d",
      "include_colab_link": true
    },
    "kernelspec": {
      "name": "python3",
      "display_name": "Python 3"
    },
    "language_info": {
      "name": "python"
    }
  },
  "cells": [
    {
      "cell_type": "markdown",
      "metadata": {
        "id": "view-in-github",
        "colab_type": "text"
      },
      "source": [
        "<a href=\"https://colab.research.google.com/github/mrudulamadhavan/My-Projects/blob/main/Fitness_Chatbot.ipynb\" target=\"_parent\"><img src=\"https://colab.research.google.com/assets/colab-badge.svg\" alt=\"Open In Colab\"/></a>"
      ]
    },
    {
      "cell_type": "markdown",
      "source": [
        "# **Vedaz Assignment - ML Intern**\n",
        "\n",
        "## **Objective:**\n",
        "Design and develop a basic agentic AI that can perform decision-making tasks based on a given input. The agent should simulate autonomy by taking actions based on predefined goals and dynamic environment factors.\n",
        "\n",
        "\n",
        "### **1. Problem Statement:**\n",
        "You are tasked with creating a simple agentic AI capable of learning from interactions within a given environment. This AI should be able to:\n",
        "\n",
        "* Receive input data (e.g., a set of actions or conditions).\n",
        "* Learn from these inputs (using basic reinforcement learning techniques, for example).\n",
        "* Make decisions based on those learned behaviors to achieve predefined goals.\n",
        "\n"
      ],
      "metadata": {
        "id": "nbEAbG3ekzBT"
      }
    },
    {
      "cell_type": "markdown",
      "source": [
        "# **Agentic Fitness Chatbot with Real-Time Adaptation**\n",
        "\n",
        "### **Project Overview**\n",
        "\n",
        "The Agentic Fitness Chatbot is an intelligent assistant designed to help users achieve their fitness goals by providing personalized workout and meal recommendations. The bot adapts in real-time based on user feedback, continuously improving its suggestions by learning from the user's preferences and behavior. This project implements Q-learning, a reinforcement learning algorithm, to provide real-time adaptation to the chatbot's recommendations.\n",
        "\n",
        "### **Features**\n",
        "* User Profile Creation: Users can input their personal details (age, weight, height) to personalize the chatbot's recommendations.\n",
        "\n",
        "* Fitness Goal Selection: Users can specify their fitness goal (weight loss, muscle gain, endurance) to receive tailored workout and meal suggestions.\n",
        "\n",
        "* Real-Time Adaptation: The chatbot learns from the feedback provided by the user (e.g., ratings for workouts and meals) and improves its future suggestions using Q-learning.\n",
        "\n",
        "* Progress Tracking: Users' workout feedback (ratings and like/dislike) helps the bot to adjust future recommendations.\n",
        "\n",
        "### **Technologies Used**\n",
        "* Python: Main programming language for developing the chatbot and implementing Q-learning.\n",
        "\n",
        "* Streamlit: For building the interactive web interface.\n",
        "\n",
        "* Pandas and Numpy: For managing data and mathematical operations.\n",
        "\n"
      ],
      "metadata": {
        "id": "1AVL9s6NlEN9"
      }
    },
    {
      "cell_type": "code",
      "source": [
        "# importing libraries\n",
        "import streamlit as st\n",
        "import pandas as pd\n",
        "import numpy as np\n",
        "import random"
      ],
      "metadata": {
        "id": "z7iWDBlGmGXq"
      },
      "execution_count": null,
      "outputs": []
    },
    {
      "cell_type": "code",
      "source": [
        "# Sample Data for workouts and meals\n",
        "workouts_df = pd.DataFrame({\n",
        "    'exercise': ['Running', 'Cycling', 'Yoga', 'Swimming', 'Deadlifts', 'Push-ups'],\n",
        "    'calories_per_hour': [600, 500, 200, 550, 350, 400],\n",
        "    'workout_type': ['Cardio', 'Cardio', 'Flexibility', 'Cardio', 'Strength', 'Strength']\n",
        "})\n",
        "\n",
        "meals_df = pd.DataFrame({\n",
        "    'meal_name': ['Oatmeal', 'Chicken Salad', 'Pasta', 'Smoothie', 'Salmon', 'Eggs'],\n",
        "    'calories': [150, 400, 500, 250, 600, 300],\n",
        "    'meal_type': ['Breakfast', 'Lunch', 'Dinner', 'Snack', 'Dinner', 'Breakfast']\n",
        "})"
      ],
      "metadata": {
        "id": "e6ISptldmTdR"
      },
      "execution_count": null,
      "outputs": []
    },
    {
      "cell_type": "code",
      "source": [],
      "metadata": {
        "id": "5qaZXgHrmTZz"
      },
      "execution_count": null,
      "outputs": []
    },
    {
      "cell_type": "code",
      "execution_count": null,
      "metadata": {
        "id": "75R4CKbIkvUm"
      },
      "outputs": [],
      "source": [
        "# Q-Learning Parameters\n",
        "ALPHA = 0.1  # Learning rate\n",
        "GAMMA = 0.9  # Discount factor\n",
        "EPSILON = 0.1  # Exploration rate (probability to explore instead of exploiting the learned policy)\n",
        "\n",
        "class FitnessAgent:\n",
        "    def __init__(self):\n",
        "        self.workout_feedback = {}  # Stores feedback for workouts\n",
        "        self.meal_feedback = {}  # Stores feedback for meals\n",
        "        self.q_table_workouts = np.zeros((3, 6))  # 3 states (goals), 6 actions (workouts)\n",
        "        self.q_table_meals = np.zeros((3, 6))  # 3 states (goals), 6 actions (meals)\n",
        "        self.states = ['weight_loss', 'muscle_gain', 'endurance']\n",
        "\n",
        "    def get_state_index(self, goal):\n",
        "        \"\"\"Convert the goal string to an index\"\"\"\n",
        "        return self.states.index(goal)\n",
        "\n",
        "    def recommend_workout(self, goal):\n",
        "        \"\"\"Recommend a workout based on the Q-table\"\"\"\n",
        "        state_index = self.get_state_index(goal)\n",
        "\n",
        "        if random.uniform(0, 1) < EPSILON:  # Exploration: pick a random action\n",
        "            action = random.choice(range(6))\n",
        "        else:  # Exploitation: pick the best action based on Q-table\n",
        "            action = np.argmax(self.q_table_workouts[state_index])\n",
        "\n",
        "        recommended_workout = workouts_df.iloc[action]\n",
        "        return recommended_workout, action\n",
        "\n",
        "    def recommend_meal(self, goal):\n",
        "        \"\"\"Recommend a meal based on the Q-table\"\"\"\n",
        "        state_index = self.get_state_index(goal)\n",
        "\n",
        "        if random.uniform(0, 1) < EPSILON:  # Exploration: pick a random action\n",
        "            action = random.choice(range(6))\n",
        "        else:  # Exploitation: pick the best action based on Q-table\n",
        "            action = np.argmax(self.q_table_meals[state_index])\n",
        "\n",
        "        recommended_meal = meals_df.iloc[action]\n",
        "        return recommended_meal, action\n",
        "\n",
        "    def collect_feedback(self, item_type, item_name, feedback, rating=None):\n",
        "        \"\"\"Learn from feedback (positive/negative or rating)\"\"\"\n",
        "        reward = rating if rating else (5 if feedback == 'like' else 1)\n",
        "\n",
        "        if item_type == 'workout':\n",
        "            workout_index = workouts_df[workouts_df['exercise'] == item_name].index[0]\n",
        "            state_index = self.get_state_index(feedback)\n",
        "            self.q_table_workouts[state_index, workout_index] = (1 - ALPHA) * self.q_table_workouts[state_index, workout_index] + ALPHA * (reward + GAMMA * np.max(self.q_table_workouts[state_index]))\n",
        "\n",
        "        elif item_type == 'meal':\n",
        "            meal_index = meals_df[meals_df['meal_name'] == item_name].index[0]\n",
        "            state_index = self.get_state_index(feedback)\n",
        "            self.q_table_meals[state_index, meal_index] = (1 - ALPHA) * self.q_table_meals[state_index, meal_index] + ALPHA * (reward + GAMMA * np.max(self.q_table_meals[state_index]))\n",
        "\n",
        "    def track_progress(self, workout, calories_burned, meals_consumed):\n",
        "        \"\"\"Track the user's progress\"\"\"\n",
        "        pass  # For simplicity, we'll skip progress tracking here\n",
        "\n",
        "# Initialize the fitness agent\n",
        "fitness_agent = FitnessAgent()"
      ]
    },
    {
      "cell_type": "code",
      "source": [
        "# Streamlit interface\n",
        "st.title(\"Agentic Fitness Chatbot with Real-Time Adaptation\")\n",
        "\n",
        "# User Profile\n",
        "st.header(\"Create Your Profile\")\n",
        "\n",
        "if 'profile_created' not in st.session_state:\n",
        "    st.session_state.profile_created = False\n",
        "\n",
        "if not st.session_state.profile_created:\n",
        "    # Profile Creation Form\n",
        "    with st.form(key='profile_form'):\n",
        "        name = st.text_input(\"Name\")\n",
        "        age = st.number_input(\"Age\", min_value=18, max_value=100)\n",
        "        weight = st.number_input(\"Weight (kg)\", min_value=30, max_value=200)\n",
        "        height = st.number_input(\"Height (cm)\", min_value=100, max_value=250)\n",
        "        profile_submit = st.form_submit_button(\"Create Profile\")\n",
        "\n",
        "        if profile_submit:\n",
        "            fitness_agent.create_profile(name, age, weight, height)\n",
        "            st.session_state.profile_created = True\n",
        "            st.success(\"Profile Created Successfully!\")\n",
        "\n",
        "else:\n",
        "    # Display profile information\n",
        "    st.write(f\"**Name**: {fitness_agent.user_profile['name']}\")\n",
        "    st.write(f\"**Age**: {fitness_agent.user_profile['age']}\")\n",
        "    st.write(f\"**Weight**: {fitness_agent.user_profile['weight']} kg\")\n",
        "    st.write(f\"**Height**: {fitness_agent.user_profile['height']} cm\")\n",
        "\n",
        "    # Fitness Goal Input\n",
        "    goal = st.selectbox(\"What is your fitness goal?\", [\"Select\", \"weight_loss\", \"muscle_gain\", \"endurance\"])\n",
        "\n",
        "    if goal != \"Select\":\n",
        "        st.write(f\"Your goal is {goal.capitalize()}!\")\n",
        "\n",
        "        # Get workout recommendations\n",
        "        recommended_workout, workout_action = fitness_agent.recommend_workout(goal)\n",
        "        st.subheader(\"Recommended Workout\")\n",
        "        st.write(f\"**{recommended_workout['exercise']}** - {recommended_workout['calories_per_hour']} calories per hour\")\n",
        "\n",
        "        # Collect feedback on workout (Rating)\n",
        "        workout_feedback = st.radio(\"Did you like this workout?\", ['like', 'dislike'], key=\"workout_feedback\")\n",
        "        workout_rating = st.slider(\"Rate this workout (1-5)\", 1, 5, key=\"workout_rating\")\n",
        "        if st.button(\"Submit Workout Feedback\"):\n",
        "            fitness_agent.collect_feedback('workout', recommended_workout['exercise'], workout_feedback, workout_rating)\n",
        "\n",
        "        # Get meal recommendations\n",
        "        recommended_meal, meal_action = fitness_agent.recommend_meal(goal)\n",
        "        st.subheader(\"Recommended Meal\")\n",
        "        st.write(f\"**{recommended_meal['meal_name']}** - {recommended_meal['calories']} calories\")\n",
        "\n",
        "        # Collect feedback on meal (Rating)\n",
        "        meal_feedback = st.radio(\"Did you like this meal?\", ['like', 'dislike'], key=\"meal_feedback\")\n",
        "        meal_rating = st.slider(\"Rate this meal (1-5)\", 1, 5, key=\"meal_rating\")\n",
        "        if st.button(\"Submit Meal Feedback\"):\n",
        "            fitness_agent.collect_feedback('meal', recommended_meal['meal_name'], meal_feedback, meal_rating)\n",
        "\n",
        "        # Show updated recommendations based on real-time adaptation\n",
        "        if st.button(\"Show Adjusted Recommendations\"):\n",
        "            st.write(\"Updated recommendations based on your feedback:\")\n",
        "            new_workout, _ = fitness_agent.recommend_workout(goal)\n",
        "            st.write(f\"**{new_workout['exercise']}** - {new_workout['calories_per_hour']} calories per hour\")\n",
        "\n",
        "            new_meal, _ = fitness_agent.recommend_meal(goal)\n",
        "            st.write(f\"**{new_meal['meal_name']}** - {new_meal['calories']} calories\")\n",
        "\n",
        "    else:\n",
        "        st.write(\"Please select a fitness goal to get started!\")"
      ],
      "metadata": {
        "id": "LGbPzOaxmg3G"
      },
      "execution_count": null,
      "outputs": []
    }
  ]
}